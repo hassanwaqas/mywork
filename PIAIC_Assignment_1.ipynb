{
 "cells": [
  {
   "cell_type": "markdown",
   "metadata": {},
   "source": [
    "# PIAIC Official Assignment No.1"
   ]
  },
  {
   "cell_type": "code",
   "execution_count": 1,
   "metadata": {},
   "outputs": [
    {
     "name": "stdout",
     "output_type": "stream",
     "text": [
      "Enter radius of the circle: 4\n",
      "The area of the circle with radius 4.0 is 50.26548245743669\n"
     ]
    }
   ],
   "source": [
    "## 1.Area of circle\n",
    "import math\n",
    "r = float(input(\"Enter radius of the circle: \"))\n",
    "area = r*r*math.pi\n",
    "print(\"The area of the circle with radius \" + str(r) + \" is \" + str(area))\n"
   ]
  },
  {
   "cell_type": "code",
   "execution_count": 2,
   "metadata": {},
   "outputs": [
    {
     "name": "stdout",
     "output_type": "stream",
     "text": [
      "Enter a number to check:-987\n",
      "Negative number entered\n"
     ]
    }
   ],
   "source": [
    "## 2. Check Number either positive, negative or zero\n",
    "num = float(input(\"Enter a number to check:\"))\n",
    "if num < 0:\n",
    "    print(\"Negative number entered\")\n",
    "elif num > 0:\n",
    "    print(\"Positive number entered\")\n",
    "elif num == 0:\n",
    "    print(\"O entered\")"
   ]
  },
  {
   "cell_type": "code",
   "execution_count": 5,
   "metadata": {},
   "outputs": [
    {
     "name": "stdout",
     "output_type": "stream",
     "text": [
      "Enter the numberator:12\n",
      "Enter the denominator:9\n",
      "Number 12 is not completely divisible by 9\n"
     ]
    }
   ],
   "source": [
    "## 3.Divisibility Check of two numbers\n",
    "num = int(input(\"Enter the numberator:\"))\n",
    "den = int(input(\"Enter the denominator:\"))\n",
    "if num%den == 0:\n",
    "    print(\"Number \"+ str(num)+ \" is completely divisible by \" + str(den))\n",
    "else:\n",
    "    print(\"Number \" + str(num)+ \" is not completely divisible by \" +str(den))"
   ]
  },
  {
   "cell_type": "code",
   "execution_count": 6,
   "metadata": {},
   "outputs": [
    {
     "name": "stdout",
     "output_type": "stream",
     "text": [
      "Enter a starting date in (dd/mm/yy) format:12/10/2020\n",
      "Enter an ending date in (dd/mm/yy) format:12/11/2020\n",
      "There are 31 days in between 12/10/2020 and 12/11/2020\n"
     ]
    }
   ],
   "source": [
    "##4.Days Calculator\n",
    "from datetime import date\n",
    "mlist1 = []\n",
    "mlist2 = []\n",
    "x = input(\"Enter a starting date in (dd/mm/yy) format:\")\n",
    "y = input(\"Enter an ending date in (dd/mm/yy) format:\")\n",
    "\n",
    "for i in x:\n",
    "    if i != '/':\n",
    "        mlist1.append(int(i))\n",
    "d1 = 10*mlist1[0]+mlist1[1]\n",
    "m1 = 10*mlist1[2]+mlist1[3]\n",
    "y1 = 1000*mlist1[4]+100*mlist1[5]+10*mlist1[6]+mlist1[7]\n",
    "\n",
    "for j in y:\n",
    "    if j != '/':\n",
    "        mlist2.append(int(j))\n",
    "d2 = 10*mlist2[0]+mlist2[1]\n",
    "m2 = 10*mlist2[2]+mlist2[3]\n",
    "y2 = 1000*mlist2[4]+100*mlist2[5]+10*mlist2[6]+mlist2[7]\n",
    "\n",
    "date1 = date(y1,m1,d1)\n",
    "date2 = date(y2,m2,d2)\n",
    "delta = date2-date1\n",
    "\n",
    "print(\"There are \" + str(delta.days) + \" days in between \" + x + \" and \" + y)\n",
    "\n",
    "\n",
    "\n",
    "\n",
    " \n",
    "    \n",
    "    \n",
    "    \n",
    "\n"
   ]
  },
  {
   "cell_type": "code",
   "execution_count": 8,
   "metadata": {},
   "outputs": [
    {
     "name": "stdout",
     "output_type": "stream",
     "text": [
      "Enter radius of sphere:12\n",
      "The volume of sphere with radius 12.0 is 7238.229473870882\n"
     ]
    }
   ],
   "source": [
    "##5. Calculate Volume of a sphere\n",
    "import math\n",
    "x = float(input(\"Enter radius of sphere:\"))\n",
    "vol = (4/3)*(math.pi)*(x*x*x)\n",
    "print(\"The volume of sphere with radius {} is {}\".format(x,vol))\n"
   ]
  },
  {
   "cell_type": "code",
   "execution_count": 9,
   "metadata": {},
   "outputs": [
    {
     "name": "stdout",
     "output_type": "stream",
     "text": [
      "Enter a string: Hassan\n",
      "How many copies of String you need:20\n",
      "20copies of Hassan are HassanHassanHassanHassanHassanHassanHassanHassanHassanHassanHassanHassanHassanHassanHassanHassanHassanHassanHassanHassan\n"
     ]
    }
   ],
   "source": [
    "####6. Copy string n times\n",
    "x = input(\"Enter a string: \")\n",
    "y = int(input(\"How many copies of String you need:\"))\n",
    "z = x*y\n",
    "print(str(y) + \"copies of \"+ x + \" are \" + z)"
   ]
  },
  {
   "cell_type": "code",
   "execution_count": 10,
   "metadata": {},
   "outputs": [
    {
     "name": "stdout",
     "output_type": "stream",
     "text": [
      "Enter a number to check: 88\n",
      "This is an even number \n"
     ]
    }
   ],
   "source": [
    "## 7.Check if number is Even or Odd\n",
    "x = int(input(\"Enter a number to check: \"))\n",
    "if x%2 == 0:\n",
    "    print(\"This is an even number \")\n",
    "else:\n",
    "    print(\"This is odd number \")"
   ]
  },
  {
   "cell_type": "code",
   "execution_count": 11,
   "metadata": {},
   "outputs": [
    {
     "name": "stdout",
     "output_type": "stream",
     "text": [
      "Enter a character to check if its vowel: i\n",
      "i is a vowel\n"
     ]
    }
   ],
   "source": [
    "#8. Write a Python program to test whether a passed letter is a vowel or not\n",
    "\n",
    "vowel_list = ['a','e','i','o','u','A','E','I','O','U']\n",
    "check_char = input(\"Enter a character to check if its vowel: \")\n",
    "if check_char in vowel_list:\n",
    "    print(check_char, \"is a vowel\")\n",
    "else:\n",
    "    print(check_char, \"is not a vowel\")\n",
    "\n",
    "\n",
    "    \n",
    "    \n",
    "        "
   ]
  },
  {
   "cell_type": "code",
   "execution_count": 12,
   "metadata": {},
   "outputs": [
    {
     "name": "stdout",
     "output_type": "stream",
     "text": [
      "Enter the triangle's base value in cm: 12\n",
      "Enter the triangle's height in cm: 12\n",
      "The area of triangle with base 12.0 and 12.0 is : 72.0\n"
     ]
    }
   ],
   "source": [
    "#9. Triangle area\n",
    "x = float(input(\"Enter the triangle's base value in cm: \"))\n",
    "y = float(input(\"Enter the triangle's height in cm: \"))\n",
    "area = 0.5*x*y\n",
    "print(\"The area of triangle with base \"+str(x)+ \" and \" + str(y) + \" is : \" + str(area))"
   ]
  },
  {
   "cell_type": "code",
   "execution_count": 13,
   "metadata": {},
   "outputs": [
    {
     "name": "stdout",
     "output_type": "stream",
     "text": [
      "Enter principle amount: 122131\n",
      "Enter interest rate in % :5\n",
      "Enter time duration in years:8\n",
      "After 8.0 years your principal amount 122131.0 over an interest rate of 5.0% will be 5007371.0\n"
     ]
    }
   ],
   "source": [
    "#10. Calculate Interest\n",
    "p = float(input(\"Enter principle amount: \"))\n",
    "r = float(input(\"Enter interest rate in % :\"))\n",
    "t = float(input(\"Enter time duration in years:\"))\n",
    "a = p*(1+(r*t))\n",
    "print(\"After \" + str(t) + \" years your principal amount \" + str(p) + \" over an interest rate of \" + str(r) +  \"% will be \" + str(a))"
   ]
  },
  {
   "cell_type": "code",
   "execution_count": 14,
   "metadata": {},
   "outputs": [
    {
     "name": "stdout",
     "output_type": "stream",
     "text": [
      "Enter coordiantes of x1: 2\n",
      "Enter coordiantes of y1: 2\n",
      "Enter coordiantes of x2: 7\n",
      "Enter coordiantes of y2: 7\n",
      "Distance between the two points is 7.0710678118654755\n"
     ]
    }
   ],
   "source": [
    "#11. Euclidean distance\n",
    "import math\n",
    "def euc(a1, b1, a2, b2):\n",
    "    euc_dis = math.sqrt(math.pow(a2-a1,2) + math.pow(b2-b1,2))\n",
    "    return euc_dis\n",
    "x1 = float(input(\"Enter coordiantes of x1: \"))\n",
    "y1 = float(input(\"Enter coordiantes of y1: \"))\n",
    "x2 = float(input(\"Enter coordiantes of x2: \"))\n",
    "y2 = float(input(\"Enter coordiantes of y2: \"))\n",
    "z = euc(x1,y1,x2,y2)\n",
    "\n",
    "print(\"Distance between the two points is \" + str(z))\n",
    "\n",
    "   \n",
    "\n"
   ]
  },
  {
   "cell_type": "code",
   "execution_count": 15,
   "metadata": {},
   "outputs": [
    {
     "name": "stdout",
     "output_type": "stream",
     "text": [
      "Enter Height in feet: 190\n",
      "There are 5791.2 cm in 190.0 feet\n"
     ]
    }
   ],
   "source": [
    "#12.Feet to Centimeter Converter\n",
    "unit_rate = 30.48\n",
    "x = float(input(\"Enter Height in feet: \"))\n",
    "z = x*unit_rate\n",
    "print(\"There are {} cm in {} feet\".format(z,x))"
   ]
  },
  {
   "cell_type": "code",
   "execution_count": 16,
   "metadata": {},
   "outputs": [
    {
     "name": "stdout",
     "output_type": "stream",
     "text": [
      "Enter weight in KGs: 104\n",
      "Enter height in cms: 172\n",
      "Your BMI is 35.154137371552196\n"
     ]
    }
   ],
   "source": [
    "##13.BMI Calculator\n",
    "\n",
    "import math\n",
    "w = float(input(\"Enter weight in KGs: \"))\n",
    "h = float(input(\"Enter height in cms: \"))\n",
    "bmi = w/(math.pow(h/100,2))\n",
    "print(\"Your BMI is {}\".format(bmi))"
   ]
  },
  {
   "cell_type": "code",
   "execution_count": 18,
   "metadata": {},
   "outputs": [
    {
     "name": "stdout",
     "output_type": "stream",
     "text": [
      "Enter a number:24\n",
      "Sum of n positive integers till 24 is 300\n"
     ]
    }
   ],
   "source": [
    "#14. Sum of n Positive Integers\n",
    "\n",
    "x = abs(int(input(\"Enter a number:\")))\n",
    "\n",
    "def sum_of_n(x):\n",
    "    sum = 0\n",
    "    while x != 0:\n",
    "        sum = sum+x\n",
    "        x -= 1\n",
    "    return sum\n",
    "z = sum_of_n(x)\n",
    "print(\"Sum of n positive integers till {} is {}\".format(x,z))\n",
    "    "
   ]
  },
  {
   "cell_type": "code",
   "execution_count": 19,
   "metadata": {},
   "outputs": [
    {
     "name": "stdout",
     "output_type": "stream",
     "text": [
      "Enter an integer number: 789\n",
      "Sum of digits inside 789 is 24 \n"
     ]
    }
   ],
   "source": [
    "#15. Digits Sum of a Number\n",
    "mlist = []\n",
    "def sum_of_digits(x):\n",
    "    sum = 0\n",
    "    z = str(x)\n",
    "    for i in z:\n",
    "        mlist.append(int(i))\n",
    "    for j in range(len(mlist)):\n",
    "        sum += mlist[j]\n",
    "    return sum\n",
    "        \n",
    "txx = int(input(\"Enter an integer number: \"))\n",
    "comp = sum_of_digits(txx)\n",
    "print(\"Sum of digits inside {} is {} \".format(txx,comp))   \n",
    "\n",
    "\n",
    "        "
   ]
  },
  {
   "cell_type": "code",
   "execution_count": 10,
   "metadata": {},
   "outputs": [
    {
     "name": "stdout",
     "output_type": "stream",
     "text": [
      "Enter a decimal number:199\n",
      "Binary Representation of 199 is 11000111\n"
     ]
    }
   ],
   "source": [
    "#16. Decimal to binary converter\n",
    "def d2b(num):\n",
    "    mlist = []\n",
    "    z = 0\n",
    "    while(num/2 > 0):\n",
    "        z = num%2\n",
    "        mlist.append(z)\n",
    "        num = num//2\n",
    "    mlist.reverse()\n",
    "    binary_out = ''.join(map(str,mlist))\n",
    "    return binary_out\n",
    "x = int(input(\"Enter a decimal number:\"))\n",
    "result = d2b(x)\n",
    "print(\"Binary Representation of {} is {}\".format(x,result))\n"
   ]
  },
  {
   "cell_type": "code",
   "execution_count": 17,
   "metadata": {},
   "outputs": [
    {
     "name": "stdout",
     "output_type": "stream",
     "text": [
      "Enter a binary number: 1010101110001100\n",
      "Decimal Representation of 1010101110001100 is 43916\n"
     ]
    }
   ],
   "source": [
    "#17. Binary to Decimal Converter\n",
    "import math\n",
    "def b2d(binary):\n",
    "    x = len(binary)\n",
    "    deci_num = 0\n",
    "    for i in range(x):\n",
    "        deci_num += int(binary[i])*int(math.pow(2,x-i-1))\n",
    "    return deci_num\n",
    "bin_str = input(\"Enter a binary number: \")\n",
    "decimal = b2d(bin_str)\n",
    "print(\"Decimal Representation of {} is {}\".format(bin_str, decimal))\n"
   ]
  },
  {
   "cell_type": "code",
   "execution_count": 34,
   "metadata": {},
   "outputs": [
    {
     "name": "stdout",
     "output_type": "stream",
     "text": [
      "Enter a string:HaAssan WaqAs ZULqaRNI\n",
      "Vowels in entered string are 8\n",
      "Consonants in entered string are 12\n"
     ]
    }
   ],
   "source": [
    "#18. Vowel and Consonants Counter\n",
    "v_counter = 0\n",
    "c_counter = 0\n",
    "s_counter = 0\n",
    "vowel = ['a','e','i','o','u','A','E','I','O','U']\n",
    "x = input(\"Enter a string:\")\n",
    "for i in x:\n",
    "    if i == \" \":\n",
    "        s_counter +=1\n",
    "    elif i in vowel:\n",
    "        v_counter +=1\n",
    "    else :\n",
    "        c_counter +=1\n",
    "\n",
    "   \n",
    "        \n",
    "print(\"Vowels in entered string are {}\".format(v_counter))\n",
    "print(\"Consonants in entered string are {}\".format(c_counter))"
   ]
  },
  {
   "cell_type": "code",
   "execution_count": 35,
   "metadata": {},
   "outputs": [
    {
     "name": "stdout",
     "output_type": "stream",
     "text": [
      "Enter a string: RockkcoR\n",
      "Yes its a palindrome\n"
     ]
    }
   ],
   "source": [
    "#19. Palindrome tester\n",
    "\n",
    "x = input(\"Enter a string: \")\n",
    "\n",
    "def pal_tester(str_1):\n",
    "    z = len(x)\n",
    "    m1 = []\n",
    "    m2 = []\n",
    "    if z%2 == 0:\n",
    "        for i in range(0,int(z/2)):\n",
    "            m1.append(x[i])\n",
    "        for j in range(int(z/2),z):\n",
    "            m2.append(x[j])\n",
    "    elif z%2 == 1:\n",
    "        new_mid = int((z+1)/2)\n",
    "        for k in range(0,new_mid):\n",
    "            m1.append(x[k])\n",
    "        for l in range(new_mid-1,int(z)):\n",
    "            m2.append(x[l])\n",
    "    m1.sort()\n",
    "    m2.sort()\n",
    "  \n",
    "    if m1 == m2:\n",
    "        print(\"Yes its a palindrome\")\n",
    "    else:\n",
    "        print(\"No its not a palindrome\")\n",
    "pal_tester(x)\n",
    "       "
   ]
  },
  {
   "cell_type": "code",
   "execution_count": 5,
   "metadata": {},
   "outputs": [
    {
     "name": "stdout",
     "output_type": "stream",
     "text": [
      "Enter a string: skljdhals sakd #$%hhas@~!kkk__ \"\"\n",
      "Alphabets = 20 \n",
      "Numerics = 0 \n",
      "Special characters = 10 \n",
      "Spaces = 3\n"
     ]
    }
   ],
   "source": [
    "#20. Count Alphabets, Numbers and Special Characters\n",
    "import string\n",
    "import itertools as it\n",
    "mlist_c = []\n",
    "mlist_n = []\n",
    "mlist_s = []\n",
    "c = 0\n",
    "n = 0\n",
    "s = 0\n",
    "sp = 0\n",
    "for i in range(65,91):   ##ASCII range for capital Alphabets\n",
    "    mlist_c.append(chr(i))\n",
    "for j in range(97,123):  ##ASCII range for small alphabets\n",
    "    mlist_c.append(chr(j))\n",
    "for k in range(48,58):   ##ASCII range for integers\n",
    "    mlist_n.append(chr(k))\n",
    "for l in it.chain(range(33,48), range(58,65), range(91,97), range(123,128)): #ASCII range for special characters\n",
    "    mlist_s.append(chr(l))\n",
    "\n",
    "x = input(\"Enter a string: \")\n",
    "for z in x:\n",
    "    if z in mlist_c:\n",
    "        c +=1\n",
    "    if z in mlist_n:\n",
    "        n +=1\n",
    "    if z in mlist_s:\n",
    "        s +=1\n",
    "    if z == ' ':\n",
    "        sp +=1\n",
    "print(\"Alphabets = {} \\nNumerics = {} \\nSpecial characters = {} \\nSpaces = {}\".format(c,n,s,sp))\n",
    "    \n",
    "        \n",
    "            \n",
    "    \n",
    "    \n",
    "    \n",
    "    \n"
   ]
  },
  {
   "cell_type": "code",
   "execution_count": 40,
   "metadata": {},
   "outputs": [
    {
     "name": "stdout",
     "output_type": "stream",
     "text": [
      "Enter a number:7\n",
      "\n",
      "*\n",
      "**\n",
      "***\n",
      "****\n",
      "*****\n",
      "******\n",
      "*******\n",
      "******\n",
      "*****\n",
      "****\n",
      "***\n",
      "**\n",
      "*\n"
     ]
    }
   ],
   "source": [
    "#21. star pattern print\n",
    "x = int(input(\"Enter a number:\"))\n",
    "for i in range(x):\n",
    "    print(i*'*')\n",
    "j = x\n",
    "while (j>0):\n",
    "    print(j*'*')\n",
    "    j-=1\n",
    "    "
   ]
  },
  {
   "cell_type": "code",
   "execution_count": 6,
   "metadata": {},
   "outputs": [
    {
     "name": "stdout",
     "output_type": "stream",
     "text": [
      "Enter a number:9\n",
      "1 \n",
      "12 \n",
      "123 \n",
      "1234 \n",
      "12345 \n",
      "123456 \n",
      "1234567 \n",
      "12345678 \n",
      "123456789 \n",
      "12345678 \n",
      "1234567 \n",
      "123456 \n",
      "12345 \n",
      "1234 \n",
      "123 \n",
      "12 \n",
      "1 \n",
      " \n"
     ]
    }
   ],
   "source": [
    "#22. Numbers pattern print\n",
    "x = int(input(\"Enter a number:\"))\n",
    "for i in range(1,x):\n",
    "    for j in range(1,i+1):\n",
    "        print(j,end='')\n",
    "    print(\" \")\n",
    "    \n",
    "for a in range(x+1,0,-1):\n",
    "    for b in range(1,a):\n",
    "        print(b,end='')\n",
    "    print(\" \")\n",
    "\n",
    "    "
   ]
  },
  {
   "cell_type": "code",
   "execution_count": 7,
   "metadata": {},
   "outputs": [
    {
     "name": "stdout",
     "output_type": "stream",
     "text": [
      "Enter a number:9\n",
      "\n",
      "1\n",
      "22\n",
      "333\n",
      "4444\n",
      "55555\n",
      "666666\n",
      "7777777\n",
      "88888888\n",
      "999999999\n",
      "88888888\n",
      "7777777\n",
      "666666\n",
      "55555\n",
      "4444\n",
      "333\n",
      "22\n",
      "1\n"
     ]
    }
   ],
   "source": [
    "#23. numbers pattern print\n",
    "x = int(input(\"Enter a number:\"))\n",
    "for i in range(x):\n",
    "    print(i*str(i))\n",
    "j = x\n",
    "while (j>0):\n",
    "    print(j*str(j))\n",
    "    j-=1\n",
    "    "
   ]
  }
 ],
 "metadata": {
  "kernelspec": {
   "display_name": "Python 3",
   "language": "python",
   "name": "python3"
  },
  "language_info": {
   "codemirror_mode": {
    "name": "ipython",
    "version": 3
   },
   "file_extension": ".py",
   "mimetype": "text/x-python",
   "name": "python",
   "nbconvert_exporter": "python",
   "pygments_lexer": "ipython3",
   "version": "3.7.4"
  }
 },
 "nbformat": 4,
 "nbformat_minor": 2
}
